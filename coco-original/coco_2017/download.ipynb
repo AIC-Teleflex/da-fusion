{
 "cells": [
  {
   "cell_type": "markdown",
   "id": "6e813146-e912-435a-8212-f5a1d39356d6",
   "metadata": {},
   "source": [
    "# Este archivo es para descargar el dataset de COCO"
   ]
  },
  {
   "cell_type": "code",
   "execution_count": 2,
   "id": "36686734-2a50-4b5c-a913-f00762c14b19",
   "metadata": {},
   "outputs": [],
   "source": [
    "import wget"
   ]
  },
  {
   "cell_type": "code",
   "execution_count": null,
   "id": "46442f43-6611-4862-8568-d19758d46024",
   "metadata": {},
   "outputs": [],
   "source": [
    "#descargar los zip\n",
    "url_train = 'http://images.cocodataset.org/zips/train2017.zip'\n",
    "url_val = 'http://images.cocodataset.org/zips/val2017.zip'\n",
    "url_annotations_trainval2017 = 'http://images.cocodataset.org/annotations/annotations_trainval2017.zip'\n",
    "\n",
    "wget.download(url_train)\n",
    "wget.download(url_val)\n",
    "wget.download(url_annotations_trainval2017)"
   ]
  },
  {
   "cell_type": "code",
   "execution_count": 8,
   "id": "1ac12141-7b13-4aa6-a558-7b61829f5915",
   "metadata": {},
   "outputs": [
    {
     "name": "stdout",
     "output_type": "stream",
     "text": [
      "annotations_trainval2017.zip  download.ipynb  train2017.zip  val2017.zip\n"
     ]
    }
   ],
   "source": [
    "!ls"
   ]
  },
  {
   "cell_type": "code",
   "execution_count": 2,
   "id": "cd30d16a-3cde-4917-a67d-e13e091d9e23",
   "metadata": {},
   "outputs": [],
   "source": [
    "#descomprimir zip\n",
    "import zipfile\n",
    "#unzip\n",
    "with zipfile.ZipFile('train2017.zip', 'r') as zip:\n",
    "    zip.extractall('')\n",
    "\n",
    "with zipfile.ZipFile('val2017.zip', 'r') as zip:\n",
    "    zip.extractall('')\n",
    "    \n",
    "with zipfile.ZipFile('annotations_trainval2017.zip', 'r') as zip:\n",
    "    zip.extractall('')"
   ]
  }
 ],
 "metadata": {
  "kernelspec": {
   "display_name": "Python 3 (ipykernel)",
   "language": "python",
   "name": "python3"
  },
  "language_info": {
   "codemirror_mode": {
    "name": "ipython",
    "version": 3
   },
   "file_extension": ".py",
   "mimetype": "text/x-python",
   "name": "python",
   "nbconvert_exporter": "python",
   "pygments_lexer": "ipython3",
   "version": "3.10.6"
  }
 },
 "nbformat": 4,
 "nbformat_minor": 5
}
